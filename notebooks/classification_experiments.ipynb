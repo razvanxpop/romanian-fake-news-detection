{
 "cells": [
  {
   "metadata": {},
   "cell_type": "markdown",
   "source": "# Imports",
   "id": "d49177a93ad51f44"
  },
  {
   "metadata": {
    "ExecuteTime": {
     "end_time": "2025-06-15T01:54:21.730769Z",
     "start_time": "2025-06-15T01:54:04.060449Z"
    }
   },
   "cell_type": "code",
   "source": [
    "import pandas as pd\n",
    "import numpy as np\n",
    "import os\n",
    "import ast\n",
    "import time\n",
    "\n",
    "import pickle\n",
    "\n",
    "from gensim.models import Word2Vec, Doc2Vec\n",
    "from scipy.sparse import load_npz\n",
    "\n",
    "from sklearn.feature_extraction.text import TfidfVectorizer\n",
    "\n",
    "from sklearn.model_selection import StratifiedKFold\n",
    "from sklearn.metrics import accuracy_score, precision_score, recall_score, f1_score\n",
    "from sklearn.preprocessing import LabelEncoder\n",
    "\n",
    "from sklearn.model_selection import train_test_split, GridSearchCV\n",
    "from sklearn.preprocessing import StandardScaler, LabelEncoder\n",
    "from sklearn.svm import SVC\n",
    "from sklearn.cluster import KMeans\n",
    "from sklearn.metrics import accuracy_score, classification_report, confusion_matrix\n",
    "from sklearn.pipeline import Pipeline\n",
    "from sklearn.compose import ColumnTransformer # For feature preprocessing\n",
    "from sklearn.impute import SimpleImputer # For handling potential NaNs in features\n",
    "\n",
    "import matplotlib.pyplot as plt\n",
    "import seaborn as sns\n",
    "\n",
    "from tqdm.auto import tqdm\n",
    "\n",
    "import torch\n",
    "from transformers import AutoTokenizer, AutoModelForSequenceClassification, TrainingArguments, Trainer\n",
    "from datasets import Dataset # Hugging Face Dataset object"
   ],
   "id": "6a79fd93fb15d26d",
   "outputs": [],
   "execution_count": 1
  },
  {
   "metadata": {},
   "cell_type": "markdown",
   "source": "# Configuration",
   "id": "9184fdda5a10a283"
  },
  {
   "metadata": {
    "ExecuteTime": {
     "end_time": "2025-06-15T01:55:33.414233Z",
     "start_time": "2025-06-15T01:55:33.398281Z"
    }
   },
   "cell_type": "code",
   "source": [
    "BASE_DIR = os.path.abspath(os.path.join(os.getcwd(), '..'))\n",
    "\n",
    "FULL_FEATURES_DATA_PATH = os.path.join(BASE_DIR, 'data', 'processed', 'final_NEW.csv')\n",
    "EMBEDDINGS_DIR = os.path.join(BASE_DIR, 'models_saved', 'embeddings')\n",
    "\n",
    "TFIDF_VECTORS_PATH = os.path.join(EMBEDDINGS_DIR, \"tfidf_vectors.npz\")\n",
    "TFIDF_VECTORIZER_PATH = os.path.join(EMBEDDINGS_DIR, \"tfidf_vectorizer.pkl\")\n",
    "ROBERT_EMBEDDINGS_PATH = os.path.join(EMBEDDINGS_DIR, \"robert_cls_embeddings.npy\")\n",
    "W2V_MODEL_PATH = os.path.join(EMBEDDINGS_DIR, f\"word2vec_300d.model\")\n",
    "D2V_MODEL_PATH = os.path.join(EMBEDDINGS_DIR, f\"doc2vec_300d.model\")\n",
    "\n",
    "CLASSIFICATION_MODELS_DIR = os.path.join(BASE_DIR, 'models_saved', 'classification')\n",
    "EXPERIMENT_A_MODELS_DIR = os.path.join(CLASSIFICATION_MODELS_DIR, 'experiment_a')\n",
    "EXPERIMENT_B_MODELS_DIR = os.path.join(CLASSIFICATION_MODELS_DIR, 'experiment_b')\n",
    "CLASSIFICATION_RESULTS_DIR = os.path.join(BASE_DIR, 'visualizations', 'classification_results')\n",
    "\n",
    "os.makedirs(CLASSIFICATION_MODELS_DIR, exist_ok=True)\n",
    "os.makedirs(EXPERIMENT_A_MODELS_DIR, exist_ok=True)\n",
    "os.makedirs(EXPERIMENT_B_MODELS_DIR, exist_ok=True)\n",
    "os.makedirs(CLASSIFICATION_RESULTS_DIR, exist_ok=True)"
   ],
   "id": "7750f86a4fbaae72",
   "outputs": [],
   "execution_count": 4
  },
  {
   "metadata": {},
   "cell_type": "markdown",
   "source": "# Experiment A",
   "id": "ce65ad2564a61048"
  },
  {
   "metadata": {},
   "cell_type": "markdown",
   "source": "#### Load Data and Pre-trained Models",
   "id": "8f611a740088534"
  },
  {
   "metadata": {
    "ExecuteTime": {
     "end_time": "2025-06-15T01:55:38.387021Z",
     "start_time": "2025-06-15T01:55:35.253998Z"
    }
   },
   "cell_type": "code",
   "source": [
    "def parse_list_literal(x):\n",
    "    try:\n",
    "        return ast.literal_eval(x)\n",
    "    except (ValueError, SyntaxError):\n",
    "        return []\n",
    "\n",
    "df = pd.read_csv(FULL_FEATURES_DATA_PATH, converters={'lemmas_filtered': parse_list_literal})\n",
    "\n",
    "label_encoder = LabelEncoder()\n",
    "y = label_encoder.fit_transform(df['tag'])\n",
    "print(f\"Labels loaded and encoded. Total samples: {len(y)}\")\n",
    "print(f\"Classes found and their encoded values: {dict(zip(label_encoder.classes_, label_encoder.transform(label_encoder.classes_)))}\")\n",
    "\n",
    "\n",
    "try:\n",
    "    X_tfidf = load_npz(TFIDF_VECTORS_PATH)\n",
    "    print(f\"TF-IDF matrix loaded. Shape: {X_tfidf.shape}\")\n",
    "\n",
    "    X_robert = np.load(ROBERT_EMBEDDINGS_PATH)\n",
    "    print(f\"RoBERT embeddings loaded. Shape: {X_robert.shape}\")\n",
    "\n",
    "    w2v_model = Word2Vec.load(W2V_MODEL_PATH)\n",
    "    print(\"Word2Vec model loaded.\")\n",
    "    d2v_model = Doc2Vec.load(D2V_MODEL_PATH)\n",
    "    print(\"Doc2Vec model loaded.\")\n",
    "    \n",
    "    all_data_loaded = True\n",
    "except FileNotFoundError as e:\n",
    "    print(f\"\\nError: Could not find a required file. {e}\")\n",
    "    print(\"Please ensure all previous feature extraction steps were completed successfully.\")\n",
    "    all_data_loaded = False"
   ],
   "id": "7bcb339280ea2fb9",
   "outputs": [
    {
     "name": "stdout",
     "output_type": "stream",
     "text": [
      "Labels loaded and encoded. Total samples: 4334\n",
      "Classes found and their encoded values: {'fake_news': 0, 'misinformation': 1, 'propaganda': 2, 'real_news': 3, 'satire': 4}\n",
      "TF-IDF matrix loaded. Shape: (4334, 10000)\n",
      "RoBERT embeddings loaded. Shape: (4334, 768)\n",
      "Word2Vec model loaded.\n",
      "Doc2Vec model loaded.\n"
     ]
    }
   ],
   "execution_count": 5
  },
  {
   "metadata": {},
   "cell_type": "markdown",
   "source": "#### Generate Word2Vec and Doc2Vec Feature Matrices",
   "id": "3f2ff13fe174454"
  },
  {
   "metadata": {
    "ExecuteTime": {
     "end_time": "2025-06-15T01:55:40.878228Z",
     "start_time": "2025-06-15T01:55:40.856630Z"
    }
   },
   "cell_type": "code",
   "source": [
    "def get_document_vector_w2v(doc_tokens, model, vector_size=300):\n",
    "    vectors = [model.wv[word] for word in doc_tokens if word in model.wv]\n",
    "    \n",
    "    if not vectors:\n",
    "        return np.zeros(vector_size)\n",
    "    \n",
    "    return np.mean(vectors, axis=0)"
   ],
   "id": "705bffd58592506e",
   "outputs": [],
   "execution_count": 6
  },
  {
   "metadata": {
    "ExecuteTime": {
     "end_time": "2025-06-15T01:55:44.764107Z",
     "start_time": "2025-06-15T01:55:42.320352Z"
    }
   },
   "cell_type": "code",
   "source": [
    "if all_data_loaded:\n",
    "    X_word2vec = np.array([\n",
    "        get_document_vector_w2v(tokens, w2v_model, w2v_model.vector_size) \n",
    "        for tokens in tqdm(df['lemmas_filtered'], desc=\"Averaging Word2Vec\")\n",
    "    ])\n",
    "    print(f\"Word2Vec document vectors created. Shape: {X_word2vec.shape}\")\n",
    "\n",
    "    X_doc2vec = np.array([d2v_model.dv[i] for i in range(len(df))])\n",
    "    print(f\"Doc2Vec document vectors created. Shape: {X_doc2vec.shape}\")"
   ],
   "id": "29d5135081b9ba2b",
   "outputs": [
    {
     "data": {
      "text/plain": [
       "Averaging Word2Vec:   0%|          | 0/4334 [00:00<?, ?it/s]"
      ],
      "application/vnd.jupyter.widget-view+json": {
       "version_major": 2,
       "version_minor": 0,
       "model_id": "c23bd00821a64e8287fdd3539db88c00"
      }
     },
     "metadata": {},
     "output_type": "display_data"
    },
    {
     "name": "stdout",
     "output_type": "stream",
     "text": [
      "Word2Vec document vectors created. Shape: (4334, 300)\n",
      "Doc2Vec document vectors created. Shape: (4334, 300)\n"
     ]
    }
   ],
   "execution_count": 7
  },
  {
   "metadata": {},
   "cell_type": "markdown",
   "source": "#### Cross-Validation Experiment Function",
   "id": "6394336faf49a7f1"
  },
  {
   "metadata": {
    "ExecuteTime": {
     "end_time": "2025-06-15T01:55:48.186184Z",
     "start_time": "2025-06-15T01:55:48.172563Z"
    }
   },
   "cell_type": "code",
   "source": [
    "def run_cross_validation_experiment(X, y, method_name, save_dir, n_splits=5):\n",
    "    skf = StratifiedKFold(n_splits=n_splits, shuffle=True, random_state=42)\n",
    "    \n",
    "    fold_scores = []\n",
    "\n",
    "    for fold, (train_indices, test_indices) in enumerate(tqdm(skf.split(X, y), total=n_splits, desc=f\"CV for {method_name}\")):\n",
    "        X_train, X_test = X[train_indices], X[test_indices]\n",
    "        y_train, y_test = y[train_indices], y[test_indices]\n",
    "        \n",
    "        clf = SVC(random_state=42)\n",
    "        clf.fit(X_train, y_train)\n",
    "        \n",
    "        model_filename = f\"svm_{method_name}_fold_{fold+1}.pkl\"\n",
    "        model_save_path = os.path.join(save_dir, model_filename)\n",
    "        \n",
    "        try:\n",
    "            with open(model_save_path, 'wb') as f:\n",
    "                pickle.dump(clf, f)\n",
    "        except Exception as e:\n",
    "            print(f\"Error saving model for fold {fold+1} of {method_name}: {e}\")\n",
    "\n",
    "        y_pred = clf.predict(X_test)\n",
    "        \n",
    "        scores = {\n",
    "            'accuracy': accuracy_score(y_test, y_pred),\n",
    "            'precision': precision_score(y_test, y_pred, average='weighted', zero_division=0),\n",
    "            'recall': recall_score(y_test, y_pred, average='weighted', zero_division=0),\n",
    "            'f1_score': f1_score(y_test, y_pred, average='weighted', zero_division=0)\n",
    "        }\n",
    "        fold_scores.append(scores)\n",
    "        \n",
    "    print(f\"Completed cross-validation for {method_name}. All models saved.\")\n",
    "    return fold_scores"
   ],
   "id": "2a68d48e0af3892c",
   "outputs": [],
   "execution_count": 8
  },
  {
   "metadata": {},
   "cell_type": "markdown",
   "source": "#### Run All Experiments",
   "id": "25a3c7f9871b4729"
  },
  {
   "metadata": {
    "ExecuteTime": {
     "end_time": "2025-06-15T01:57:52.414317Z",
     "start_time": "2025-06-15T01:55:49.623332Z"
    }
   },
   "cell_type": "code",
   "source": [
    "if all_data_loaded:\n",
    "    feature_sets = {\n",
    "        \"TF-IDF\": X_tfidf,\n",
    "        \"Word2Vec (Averaged)\": X_word2vec,\n",
    "        \"Doc2Vec\": X_doc2vec,\n",
    "        \"RoBERT (CLS)\": X_robert\n",
    "    }\n",
    "    \n",
    "    all_experiment_results = {}\n",
    "\n",
    "    for name, X_features in feature_sets.items():\n",
    "        print(f\"\\n----- Running Experiment for: {name} -----\")\n",
    "        \n",
    "        safe_method_name = name.lower().replace(' ', '_').replace('(', '').replace(')', '')\n",
    "        \n",
    "        all_experiment_results[name] = run_cross_validation_experiment(\n",
    "            X=X_features, \n",
    "            y=y, \n",
    "            method_name=safe_method_name,\n",
    "            save_dir=EXPERIMENT_A_MODELS_DIR \n",
    "        )\n",
    "        print(f\"----- Experiment for {name} complete -----\")\n",
    "\n",
    "else:\n",
    "    print(\"Cannot run experiments because data/models were not loaded correctly.\")"
   ],
   "id": "a0f45b3199830ce9",
   "outputs": [
    {
     "name": "stdout",
     "output_type": "stream",
     "text": [
      "\n",
      "----- Running Experiment for: TF-IDF -----\n"
     ]
    },
    {
     "data": {
      "text/plain": [
       "CV for tf-idf:   0%|          | 0/5 [00:00<?, ?it/s]"
      ],
      "application/vnd.jupyter.widget-view+json": {
       "version_major": 2,
       "version_minor": 0,
       "model_id": "7331fe17b2c947b18b205286205051fb"
      }
     },
     "metadata": {},
     "output_type": "display_data"
    },
    {
     "name": "stdout",
     "output_type": "stream",
     "text": [
      "Completed cross-validation for tf-idf. All models saved.\n",
      "----- Experiment for TF-IDF complete -----\n",
      "\n",
      "----- Running Experiment for: Word2Vec (Averaged) -----\n"
     ]
    },
    {
     "data": {
      "text/plain": [
       "CV for word2vec_averaged:   0%|          | 0/5 [00:00<?, ?it/s]"
      ],
      "application/vnd.jupyter.widget-view+json": {
       "version_major": 2,
       "version_minor": 0,
       "model_id": "9cf0430168a645aaa88a27feee3091f3"
      }
     },
     "metadata": {},
     "output_type": "display_data"
    },
    {
     "name": "stdout",
     "output_type": "stream",
     "text": [
      "Completed cross-validation for word2vec_averaged. All models saved.\n",
      "----- Experiment for Word2Vec (Averaged) complete -----\n",
      "\n",
      "----- Running Experiment for: Doc2Vec -----\n"
     ]
    },
    {
     "data": {
      "text/plain": [
       "CV for doc2vec:   0%|          | 0/5 [00:00<?, ?it/s]"
      ],
      "application/vnd.jupyter.widget-view+json": {
       "version_major": 2,
       "version_minor": 0,
       "model_id": "b65d01bf6bb248a08de5a216f89769b3"
      }
     },
     "metadata": {},
     "output_type": "display_data"
    },
    {
     "name": "stdout",
     "output_type": "stream",
     "text": [
      "Completed cross-validation for doc2vec. All models saved.\n",
      "----- Experiment for Doc2Vec complete -----\n",
      "\n",
      "----- Running Experiment for: RoBERT (CLS) -----\n"
     ]
    },
    {
     "data": {
      "text/plain": [
       "CV for robert_cls:   0%|          | 0/5 [00:00<?, ?it/s]"
      ],
      "application/vnd.jupyter.widget-view+json": {
       "version_major": 2,
       "version_minor": 0,
       "model_id": "5aa208cd235446b98eb90bb35c6ab44b"
      }
     },
     "metadata": {},
     "output_type": "display_data"
    },
    {
     "name": "stdout",
     "output_type": "stream",
     "text": [
      "Completed cross-validation for robert_cls. All models saved.\n",
      "----- Experiment for RoBERT (CLS) complete -----\n"
     ]
    }
   ],
   "execution_count": 9
  },
  {
   "metadata": {},
   "cell_type": "markdown",
   "source": "#### Dispaly Final Results Table",
   "id": "32d1cb22b2888e50"
  },
  {
   "metadata": {
    "ExecuteTime": {
     "end_time": "2025-06-15T01:57:55.959151Z",
     "start_time": "2025-06-15T01:57:55.926559Z"
    }
   },
   "cell_type": "code",
   "source": [
    "if 'all_experiment_results' in globals() and all_experiment_results:\n",
    "    results_summary = []\n",
    "\n",
    "    for name, fold_scores in all_experiment_results.items():\n",
    "        df_scores = pd.DataFrame(fold_scores)\n",
    "        \n",
    "        summary = {\n",
    "            \"Method\": name,\n",
    "            \"Mean Accuracy\": f\"{df_scores['accuracy'].mean():.4f} ± {df_scores['accuracy'].std():.4f}\",\n",
    "            \"Mean Precision\": f\"{df_scores['precision'].mean():.4f} ± {df_scores['precision'].std():.4f}\",\n",
    "            \"Mean Recall\": f\"{df_scores['recall'].mean():.4f} ± {df_scores['recall'].std():.4f}\",\n",
    "            \"Mean F1-Score\": f\"{df_scores['f1_score'].mean():.4f} ± {df_scores['f1_score'].std():.4f}\"\n",
    "        }\n",
    "        results_summary.append(summary)\n",
    "        \n",
    "    df_final_results = pd.DataFrame(results_summary)\n",
    "    \n",
    "    display(df_final_results)\n",
    "else:\n",
    "    print(\"Experiments were not run. No results to display.\")"
   ],
   "id": "51f9f865d39cde1a",
   "outputs": [
    {
     "data": {
      "text/plain": [
       "                Method    Mean Accuracy   Mean Precision      Mean Recall  \\\n",
       "0               TF-IDF  0.9571 ± 0.0068  0.9578 ± 0.0061  0.9571 ± 0.0068   \n",
       "1  Word2Vec (Averaged)  0.7702 ± 0.0106  0.7682 ± 0.0119  0.7702 ± 0.0106   \n",
       "2              Doc2Vec  0.8087 ± 0.0109  0.8057 ± 0.0114  0.8087 ± 0.0109   \n",
       "3         RoBERT (CLS)  0.7425 ± 0.0056  0.7371 ± 0.0063  0.7425 ± 0.0056   \n",
       "\n",
       "     Mean F1-Score  \n",
       "0  0.9570 ± 0.0067  \n",
       "1  0.7686 ± 0.0113  \n",
       "2  0.8046 ± 0.0117  \n",
       "3  0.7376 ± 0.0072  "
      ],
      "text/html": [
       "<div>\n",
       "<style scoped>\n",
       "    .dataframe tbody tr th:only-of-type {\n",
       "        vertical-align: middle;\n",
       "    }\n",
       "\n",
       "    .dataframe tbody tr th {\n",
       "        vertical-align: top;\n",
       "    }\n",
       "\n",
       "    .dataframe thead th {\n",
       "        text-align: right;\n",
       "    }\n",
       "</style>\n",
       "<table border=\"1\" class=\"dataframe\">\n",
       "  <thead>\n",
       "    <tr style=\"text-align: right;\">\n",
       "      <th></th>\n",
       "      <th>Method</th>\n",
       "      <th>Mean Accuracy</th>\n",
       "      <th>Mean Precision</th>\n",
       "      <th>Mean Recall</th>\n",
       "      <th>Mean F1-Score</th>\n",
       "    </tr>\n",
       "  </thead>\n",
       "  <tbody>\n",
       "    <tr>\n",
       "      <th>0</th>\n",
       "      <td>TF-IDF</td>\n",
       "      <td>0.9571 ± 0.0068</td>\n",
       "      <td>0.9578 ± 0.0061</td>\n",
       "      <td>0.9571 ± 0.0068</td>\n",
       "      <td>0.9570 ± 0.0067</td>\n",
       "    </tr>\n",
       "    <tr>\n",
       "      <th>1</th>\n",
       "      <td>Word2Vec (Averaged)</td>\n",
       "      <td>0.7702 ± 0.0106</td>\n",
       "      <td>0.7682 ± 0.0119</td>\n",
       "      <td>0.7702 ± 0.0106</td>\n",
       "      <td>0.7686 ± 0.0113</td>\n",
       "    </tr>\n",
       "    <tr>\n",
       "      <th>2</th>\n",
       "      <td>Doc2Vec</td>\n",
       "      <td>0.8087 ± 0.0109</td>\n",
       "      <td>0.8057 ± 0.0114</td>\n",
       "      <td>0.8087 ± 0.0109</td>\n",
       "      <td>0.8046 ± 0.0117</td>\n",
       "    </tr>\n",
       "    <tr>\n",
       "      <th>3</th>\n",
       "      <td>RoBERT (CLS)</td>\n",
       "      <td>0.7425 ± 0.0056</td>\n",
       "      <td>0.7371 ± 0.0063</td>\n",
       "      <td>0.7425 ± 0.0056</td>\n",
       "      <td>0.7376 ± 0.0072</td>\n",
       "    </tr>\n",
       "  </tbody>\n",
       "</table>\n",
       "</div>"
      ]
     },
     "metadata": {},
     "output_type": "display_data"
    }
   ],
   "execution_count": 10
  },
  {
   "metadata": {},
   "cell_type": "markdown",
   "source": "# Re-train The Best Method on Full Data for Final Model in UI Based on Experiment A",
   "id": "d72694ba69771ec8"
  },
  {
   "metadata": {
    "ExecuteTime": {
     "end_time": "2025-06-15T01:58:42.843532Z",
     "start_time": "2025-06-15T01:58:42.835070Z"
    }
   },
   "cell_type": "code",
   "source": [
    "def parse_list_literal(x):\n",
    "    try:\n",
    "        return ast.literal_eval(x)\n",
    "    except (ValueError, SyntaxError):\n",
    "        return []"
   ],
   "id": "e9ec72a4f878dfa8",
   "outputs": [],
   "execution_count": 11
  },
  {
   "metadata": {
    "ExecuteTime": {
     "end_time": "2025-06-15T01:58:46.483057Z",
     "start_time": "2025-06-15T01:58:43.227893Z"
    }
   },
   "cell_type": "code",
   "source": [
    "try:    \n",
    "    df = pd.read_csv(FULL_FEATURES_DATA_PATH, converters={'lemmas_filtered': parse_list_literal})\n",
    "\n",
    "    if 'lemmas_filtered' in df.columns and not df['lemmas_filtered'].isnull().all():        \n",
    "        prepared_documents = df['lemmas_filtered'].apply(\n",
    "            lambda tokens: ' '.join(tokens) if isinstance(tokens, list) else ''\n",
    "        ).tolist()\n",
    "        \n",
    "        print(f\"Successfully prepared {len(prepared_documents)} documents for TF-IDF vectorization.\")\n",
    "    else:\n",
    "        print(\"Error: 'lemmas_filtered' column not found or is empty.\")\n",
    "        prepared_documents = None\n",
    "except FileNotFoundError:\n",
    "    print(f\"Error: Processed data file not found at {FULL_FEATURES_DATA_PATH}\")\n",
    "    prepared_documents = None\n",
    "except Exception as e:\n",
    "    print(f\"An unexpected error occurred: {e}\")\n",
    "    prepared_documents = None"
   ],
   "id": "5b04f0804eb64417",
   "outputs": [
    {
     "name": "stdout",
     "output_type": "stream",
     "text": [
      "Successfully prepared 4334 documents for TF-IDF vectorization.\n"
     ]
    }
   ],
   "execution_count": 12
  },
  {
   "metadata": {
    "ExecuteTime": {
     "end_time": "2025-06-09T23:46:55.356454Z",
     "start_time": "2025-06-09T23:46:51.970607Z"
    }
   },
   "cell_type": "code",
   "source": [
    "print(\"Fitting final TF-IDF vectorizer on 100% of the data...\")\n",
    "final_tfidf_vectorizer = TfidfVectorizer(\n",
    "    ngram_range=(1, 2),\n",
    "    max_df=0.95,\n",
    "    min_df=5,\n",
    "    max_features=10000\n",
    ")\n",
    "X_final_tfidf = final_tfidf_vectorizer.fit_transform(prepared_documents)\n",
    "print(\"Final TF-IDF matrix created.\")"
   ],
   "id": "c47337a8d3b1459a",
   "outputs": [
    {
     "name": "stdout",
     "output_type": "stream",
     "text": [
      "Fitting final TF-IDF vectorizer on 100% of the data...\n",
      "Final TF-IDF matrix created.\n"
     ]
    }
   ],
   "execution_count": 18
  },
  {
   "metadata": {
    "ExecuteTime": {
     "end_time": "2025-06-10T00:51:17.911719Z",
     "start_time": "2025-06-10T00:49:26.591995Z"
    }
   },
   "cell_type": "code",
   "source": [
    "print(\"Training final SVM classifier on 100% of the data...\")\n",
    "final_svm_model = SVC(random_state=42, probability=True)\n",
    "final_svm_model.fit(X_final_tfidf, y)\n",
    "print(\"Final SVM model trained.\")"
   ],
   "id": "33a4e98691d4830b",
   "outputs": [
    {
     "name": "stdout",
     "output_type": "stream",
     "text": [
      "Training final SVM classifier on 100% of the data...\n",
      "Final SVM model trained.\n"
     ]
    }
   ],
   "execution_count": 21
  },
  {
   "metadata": {
    "ExecuteTime": {
     "end_time": "2025-06-10T00:51:55.622278Z",
     "start_time": "2025-06-10T00:51:55.468919Z"
    }
   },
   "cell_type": "code",
   "source": [
    "with open(os.path.join(CLASSIFICATION_MODELS_DIR, \"final_tfidf_vectorizer.pkl\"), 'wb') as f:\n",
    "    pickle.dump(final_tfidf_vectorizer, f)\n",
    "\n",
    "with open(os.path.join(CLASSIFICATION_MODELS_DIR, \"final_svm_model.pkl\"), 'wb') as f:\n",
    "    pickle.dump(final_svm_model, f)\n",
    "\n",
    "print(\"Final production-ready models saved.\")"
   ],
   "id": "45f90dfb3bbdf7cc",
   "outputs": [
    {
     "name": "stdout",
     "output_type": "stream",
     "text": [
      "Final production-ready models saved.\n"
     ]
    }
   ],
   "execution_count": 22
  },
  {
   "metadata": {},
   "cell_type": "markdown",
   "source": "# Experiment B",
   "id": "820a5f681068ab7d"
  },
  {
   "metadata": {},
   "cell_type": "markdown",
   "source": "#### Load Data for Clustering",
   "id": "ec582ff346569ee1"
  },
  {
   "metadata": {
    "ExecuteTime": {
     "end_time": "2025-06-15T01:58:59.147416Z",
     "start_time": "2025-06-15T01:58:57.537394Z"
    }
   },
   "cell_type": "code",
   "source": [
    "try:\n",
    "    d2v_model = Doc2Vec.load(D2V_MODEL_PATH)\n",
    "\n",
    "    df = pd.read_csv(FULL_FEATURES_DATA_PATH)\n",
    "    \n",
    "    X_doc2vec = np.array([d2v_model.dv[i] for i in range(len(df))])\n",
    "    \n",
    "    print(f\"Successfully loaded Doc2Vec vectors. Shape: {X_doc2vec.shape}\")\n",
    "    data_loaded_for_clustering = True\n",
    "\n",
    "except FileNotFoundError as e:\n",
    "    print(f\"Error: Could not find a required file. {e}\")\n",
    "    data_loaded_for_clustering = False"
   ],
   "id": "c78d5b5f1df1437a",
   "outputs": [
    {
     "name": "stdout",
     "output_type": "stream",
     "text": [
      "Successfully loaded Doc2Vec vectors. Shape: (4334, 300)\n"
     ]
    }
   ],
   "execution_count": 13
  },
  {
   "metadata": {},
   "cell_type": "markdown",
   "source": "#### Find the optimal 'k' using the Elbow Method ",
   "id": "5873b0cce8425ee8"
  },
  {
   "metadata": {
    "ExecuteTime": {
     "end_time": "2025-06-15T01:59:22.592044Z",
     "start_time": "2025-06-15T01:59:15.163004Z"
    }
   },
   "cell_type": "code",
   "source": [
    "if data_loaded_for_clustering:    \n",
    "    inertia_values = []\n",
    "    k_range = range(2, 21)\n",
    "\n",
    "    for k in tqdm(k_range, desc=\"Running k-Means for different k\"):\n",
    "        kmeans = KMeans(n_clusters=k, init='k-means++', random_state=42, n_init='auto')\n",
    "        kmeans.fit(X_doc2vec)\n",
    "        inertia_values.append(kmeans.inertia_)\n",
    "        \n",
    "    plt.figure(figsize=(10, 6))\n",
    "    plt.plot(k_range, inertia_values, 'bo-')\n",
    "    plt.xlabel('Number of clusters (k)')\n",
    "    plt.ylabel('Inertia')\n",
    "    plt.title('Elbow Method For Optimal k')\n",
    "    plt.xticks(k_range)\n",
    "    plt.grid(True)\n",
    "    plt.savefig(os.path.join(CLASSIFICATION_RESULTS_DIR, \"elbow_method_k_means.png\"))\n",
    "    plt.show()\n",
    "\n",
    "else:\n",
    "    print(\"Cannot run Elbow Method because data was not loaded correctly.\")"
   ],
   "id": "39f95ad745590339",
   "outputs": [
    {
     "data": {
      "text/plain": [
       "Running k-Means for different k:   0%|          | 0/19 [00:00<?, ?it/s]"
      ],
      "application/vnd.jupyter.widget-view+json": {
       "version_major": 2,
       "version_minor": 0,
       "model_id": "8be8925414aa45209a6ee34399385696"
      }
     },
     "metadata": {},
     "output_type": "display_data"
    },
    {
     "data": {
      "text/plain": [
       "<Figure size 1000x600 with 1 Axes>"
      ],
      "image/png": "[encoded data removed]"
     },
     "metadata": {},
     "output_type": "display_data"
    }
   ],
   "execution_count": 14
  },
  {
   "metadata": {},
   "cell_type": "markdown",
   "source": "#### Load Data and Pre-trained Models",
   "id": "c1cb3a81a4b181d5"
  },
  {
   "metadata": {
    "ExecuteTime": {
     "end_time": "2025-06-15T01:59:36.275659Z",
     "start_time": "2025-06-15T01:59:33.606695Z"
    }
   },
   "cell_type": "code",
   "source": [
    "def parse_list_literal(x):\n",
    "    try: return ast.literal_eval(x)\n",
    "    except (ValueError, SyntaxError): return []\n",
    "df = pd.read_csv(FULL_FEATURES_DATA_PATH, converters={'lemmas_filtered': parse_list_literal})\n",
    "\n",
    "label_encoder = LabelEncoder()\n",
    "y = label_encoder.fit_transform(df['tag'])\n",
    "print(f\"Labels loaded. Total samples: {len(y)}\")\n",
    "\n",
    "engineered_feature_columns = [\n",
    "    'word_count', 'vocabulary_richness', 'noun_prop', 'verb_prop', \n",
    "    'adj_prop', 'adv_prop', 'total_entities', 'entity_density', \n",
    "    'anger_mean', 'joy_mean', 'sadness_mean', 'trust_mean', \n",
    "    'anticipation_mean', 'disgust_mean', 'fear_mean', 'surprise_mean', \n",
    "    'Positivity', 'Negativity', 'matched_emotion_words', \n",
    "    'percentage_positive_specific', 'percentage_negative_specific'\n",
    "]\n",
    "X_engineered = df[engineered_feature_columns].values\n",
    "print(f\"Engineered features loaded. Shape: {X_engineered.shape}\")\n",
    "\n",
    "d2v_model = Doc2Vec.load(D2V_MODEL_PATH)\n",
    "X_doc2vec = np.array([d2v_model.dv[i] for i in range(len(df))])\n",
    "print(f\"Doc2Vec embeddings loaded. Shape: {X_doc2vec.shape}\")"
   ],
   "id": "d828025b6901427b",
   "outputs": [
    {
     "name": "stdout",
     "output_type": "stream",
     "text": [
      "Labels loaded. Total samples: 4334\n",
      "Engineered features loaded. Shape: (4334, 21)\n",
      "Doc2Vec embeddings loaded. Shape: (4334, 300)\n"
     ]
    }
   ],
   "execution_count": 15
  },
  {
   "metadata": {},
   "cell_type": "markdown",
   "source": "#### Hyperparameter Tuning with GridSearchCV",
   "id": "3f450d35e9310e5f"
  },
  {
   "metadata": {
    "ExecuteTime": {
     "end_time": "2025-06-10T21:02:46.849460Z",
     "start_time": "2025-06-10T20:58:56.848685Z"
    }
   },
   "cell_type": "code",
   "source": [
    "K_CLUSTERS = 8\n",
    "\n",
    "scaler_for_tuning = StandardScaler()\n",
    "X_engineered_scaled = scaler_for_tuning.fit_transform(X_engineered)\n",
    "\n",
    "kmeans_for_tuning = KMeans(n_clusters=K_CLUSTERS, random_state=42, n_init='auto')\n",
    "cluster_ids = kmeans_for_tuning.fit_predict(X_doc2vec).reshape(-1, 1)\n",
    "\n",
    "X_hybrid_full = np.hstack((X_doc2vec, X_engineered_scaled, cluster_ids))\n",
    "print(f\"Full hybrid feature matrix created. Shape: {X_hybrid_full.shape}\")\n",
    "\n",
    "param_grid_svm = {\n",
    "    'C': [1, 10, 100],\n",
    "    'gamma': ['scale', 'auto', 0.1],\n",
    "    'kernel': ['rbf', 'linear']\n",
    "}\n",
    "\n",
    "grid_search = GridSearchCV(\n",
    "    SVC(random_state=42, probability=True),\n",
    "    param_grid_svm,\n",
    "    cv=3,\n",
    "    n_jobs=-1,\n",
    "    verbose=2,\n",
    "    scoring='f1_weighted'\n",
    ")\n",
    "\n",
    "print(\"\\nStarting GridSearchCV... (This may take several minutes)\")\n",
    "grid_search.fit(X_hybrid_full, y)\n",
    "\n",
    "best_svm_params = grid_search.best_params_\n",
    "print(f\"\\nGridSearchCV Complete.\")\n",
    "print(f\"Best SVM parameters found: {best_svm_params}\")\n",
    "print(f\"Best internal cross-validation F1-score: {grid_search.best_score_:.4f}\")"
   ],
   "id": "be7d00bf119e4fbe",
   "outputs": [
    {
     "name": "stdout",
     "output_type": "stream",
     "text": [
      "--- Stage 1: Finding Optimal SVM Hyperparameters ---\n",
      "Preparing full dataset for GridSearchCV...\n",
      "Full hybrid feature matrix created. Shape: (4334, 322)\n",
      "\n",
      "Starting GridSearchCV... (This may take several minutes)\n",
      "Fitting 3 folds for each of 18 candidates, totalling 54 fits\n",
      "\n",
      "GridSearchCV Complete.\n",
      "Best SVM parameters found: {'C': 100, 'gamma': 'scale', 'kernel': 'rbf'}\n",
      "Best internal cross-validation F1-score: 0.8677\n",
      "(Note: This score is an estimate and should not be reported as the final result)\n"
     ]
    }
   ],
   "execution_count": 80
  },
  {
   "metadata": {},
   "cell_type": "markdown",
   "source": "#### Pipeline Function",
   "id": "48f135e8ef1d7beb"
  },
  {
   "metadata": {
    "ExecuteTime": {
     "end_time": "2025-06-10T21:10:46.467450Z",
     "start_time": "2025-06-10T21:10:46.459899Z"
    }
   },
   "cell_type": "code",
   "source": [
    "def run_experiment_b_pipeline(X_engineered, X_doc2vec, y, k, svm_params, save_dir, n_splits=5):\n",
    "    skf = StratifiedKFold(n_splits=n_splits, shuffle=True, random_state=42)\n",
    "    fold_scores = []\n",
    "    \n",
    "    exp_b_save_dir = os.path.join(save_dir, \"experiment_b_models\")\n",
    "    os.makedirs(exp_b_save_dir, exist_ok=True)\n",
    "\n",
    "    for fold, (train_indices, test_indices) in enumerate(tqdm(skf.split(X_engineered, y), total=n_splits, desc=\"Running Hybrid Model CV\")):\n",
    "        X_eng_train, X_eng_test = X_engineered[train_indices], X_engineered[test_indices]\n",
    "        X_doc_train, X_doc_test = X_doc2vec[train_indices], X_doc2vec[test_indices]\n",
    "        y_train, y_test = y[train_indices], y[test_indices]\n",
    "\n",
    "        scaler = StandardScaler()\n",
    "        X_eng_train_scaled = scaler.fit_transform(X_eng_train)\n",
    "        X_eng_test_scaled = scaler.transform(X_eng_test)\n",
    "\n",
    "        kmeans = KMeans(n_clusters=k, random_state=42, n_init='auto')\n",
    "        kmeans.fit(X_doc_train)\n",
    "        cluster_train = kmeans.predict(X_doc_train).reshape(-1, 1)\n",
    "        cluster_test = kmeans.predict(X_doc_test).reshape(-1, 1)\n",
    "        \n",
    "        X_train_final = np.hstack((X_doc_train, X_eng_train_scaled, cluster_train))\n",
    "        X_test_final = np.hstack((X_doc_test, X_eng_test_scaled, cluster_test))\n",
    "\n",
    "        clf = SVC(random_state=42, probability=True, **svm_params)\n",
    "        clf.fit(X_train_final, y_train)\n",
    "\n",
    "        with open(os.path.join(exp_b_save_dir, f\"svm_fold_{fold+1}.pkl\"), 'wb') as f: pickle.dump(clf, f)\n",
    "        with open(os.path.join(exp_b_save_dir, f\"scaler_fold_{fold+1}.pkl\"), 'wb') as f: pickle.dump(scaler, f)\n",
    "        with open(os.path.join(exp_b_save_dir, f\"kmeans_fold_{fold+1}.pkl\"), 'wb') as f: pickle.dump(kmeans, f)\n",
    "\n",
    "        y_pred = clf.predict(X_test_final)\n",
    "        \n",
    "        fold_scores.append({\n",
    "            'accuracy': accuracy_score(y_test, y_pred),\n",
    "            'precision': precision_score(y_test, y_pred, average='weighted', zero_division=0),\n",
    "            'recall': recall_score(y_test, y_pred, average='weighted', zero_division=0),\n",
    "            'f1_score': f1_score(y_test, y_pred, average='weighted', zero_division=0)\n",
    "        })\n",
    "\n",
    "    return fold_scores"
   ],
   "id": "51b428362e4e1ee5",
   "outputs": [],
   "execution_count": 86
  },
  {
   "metadata": {},
   "cell_type": "markdown",
   "source": "#### Execute and Display Results",
   "id": "52f7dfb8baa47820"
  },
  {
   "metadata": {
    "ExecuteTime": {
     "end_time": "2025-06-10T21:11:10.658408Z",
     "start_time": "2025-06-10T21:10:50.839378Z"
    }
   },
   "cell_type": "code",
   "source": [
    "if 'best_svm_params' in globals():\n",
    "    print(f\"\\nFinal Evaluation for Experiment B with Best Params: {best_svm_params}\")\n",
    "    \n",
    "    experiment_b_results = run_experiment_b_pipeline(\n",
    "        X_engineered=X_engineered,\n",
    "        X_doc2vec=X_doc2vec,\n",
    "        y=y,\n",
    "        k=K_CLUSTERS,\n",
    "        svm_params=best_svm_params,\n",
    "        save_dir=EXPERIMENT_B_MODELS_DIR\n",
    "    )\n",
    "    \n",
    "    df_scores_b = pd.DataFrame(experiment_b_results)\n",
    "    summary_b = {\n",
    "        \"Method\": f\"Hybrid Model (Doc2Vec + Engineered + k-Means)\",\n",
    "        \"Mean Accuracy\": f\"{df_scores_b['accuracy'].mean():.4f} ± {df_scores_b['accuracy'].std():.4f}\",\n",
    "        \"Mean Precision\": f\"{df_scores_b['precision'].mean():.4f} ± {df_scores_b['precision'].std():.4f}\",\n",
    "        \"Mean Recall\": f\"{df_scores_b['recall'].mean():.4f} ± {df_scores_b['recall'].std():.4f}\",\n",
    "        \"Mean F1-Score\": f\"{df_scores_b['f1_score'].mean():.4f} ± {df_scores_b['f1_score'].std():.4f}\"\n",
    "    }\n",
    "    \n",
    "    df_final_results_b = pd.DataFrame([summary_b])\n",
    "    \n",
    "    display(df_final_results_b)\n",
    "\n",
    "else:\n",
    "    print(\"Cannot run final experiment because best SVM parameters were not determined.\")"
   ],
   "id": "3a881477c0de1cb",
   "outputs": [
    {
     "name": "stdout",
     "output_type": "stream",
     "text": [
      "\n",
      "----- Running Final Evaluation for Experiment C with Best Params: {'C': 100, 'gamma': 'scale', 'kernel': 'rbf'} -----\n"
     ]
    },
    {
     "data": {
      "text/plain": [
       "Running Hybrid Model CV:   0%|          | 0/5 [00:00<?, ?it/s]"
      ],
      "application/vnd.jupyter.widget-view+json": {
       "version_major": 2,
       "version_minor": 0,
       "model_id": "8fb4bfae8c0446bda4dfd45d58480308"
      }
     },
     "metadata": {},
     "output_type": "display_data"
    },
    {
     "name": "stdout",
     "output_type": "stream",
     "text": [
      "Experiment C cross-validation complete.\n",
      "\n",
      "\n",
      "--- Final, Robust Results for Experiment C ---\n"
     ]
    },
    {
     "data": {
      "text/plain": [
       "                                          Method    Mean Accuracy  \\\n",
       "0  Hybrid Model (Doc2Vec + Engineered + k-Means)  0.9174 ± 0.0139   \n",
       "\n",
       "    Mean Precision      Mean Recall    Mean F1-Score  \n",
       "0  0.9188 ± 0.0135  0.9174 ± 0.0139  0.9169 ± 0.0141  "
      ],
      "text/html": [
       "<div>\n",
       "<style scoped>\n",
       "    .dataframe tbody tr th:only-of-type {\n",
       "        vertical-align: middle;\n",
       "    }\n",
       "\n",
       "    .dataframe tbody tr th {\n",
       "        vertical-align: top;\n",
       "    }\n",
       "\n",
       "    .dataframe thead th {\n",
       "        text-align: right;\n",
       "    }\n",
       "</style>\n",
       "<table border=\"1\" class=\"dataframe\">\n",
       "  <thead>\n",
       "    <tr style=\"text-align: right;\">\n",
       "      <th></th>\n",
       "      <th>Method</th>\n",
       "      <th>Mean Accuracy</th>\n",
       "      <th>Mean Precision</th>\n",
       "      <th>Mean Recall</th>\n",
       "      <th>Mean F1-Score</th>\n",
       "    </tr>\n",
       "  </thead>\n",
       "  <tbody>\n",
       "    <tr>\n",
       "      <th>0</th>\n",
       "      <td>Hybrid Model (Doc2Vec + Engineered + k-Means)</td>\n",
       "      <td>0.9174 ± 0.0139</td>\n",
       "      <td>0.9188 ± 0.0135</td>\n",
       "      <td>0.9174 ± 0.0139</td>\n",
       "      <td>0.9169 ± 0.0141</td>\n",
       "    </tr>\n",
       "  </tbody>\n",
       "</table>\n",
       "</div>"
      ]
     },
     "metadata": {},
     "output_type": "display_data"
    }
   ],
   "execution_count": 87
  },
  {
   "metadata": {},
   "cell_type": "markdown",
   "source": "#",
   "id": "5e2bf103e4224bd8"
  }
 ],
 "metadata": {
  "kernelspec": {
   "display_name": "Python 3",
   "language": "python",
   "name": "python3"
  },
  "language_info": {
   "codemirror_mode": {
    "name": "ipython",
    "version": 2
   },
   "file_extension": ".py",
   "mimetype": "text/x-python",
   "name": "python",
   "nbconvert_exporter": "python",
   "pygments_lexer": "ipython2",
   "version": "2.7.6"
  }
 },
 "nbformat": 4,
 "nbformat_minor": 5
}
